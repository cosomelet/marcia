{
   "cells": [
      {
         "cell_type": "code",
         "execution_count": 1,
         "metadata": {},
         "outputs": [],
         "source": [
            "import matplotlib.pyplot as plt\n",
            "import numpy as np\n",
            "import sys\n",
            "sys.path.append('../')\n"
         ]
      },
      {
         "cell_type": "code",
         "execution_count": 2,
         "metadata": {},
         "outputs": [],
         "source": [
            "from marcia import params\n",
            "%load_ext autoreload\n",
            "%autoreload 2\n",
            "from marcia.database import Data \n"
         ]
      },
      {
         "cell_type": "code",
         "execution_count": 3,
         "metadata": {},
         "outputs": [],
         "source": [
            "data_list = ['CC']"
         ]
      },
      {
         "cell_type": "code",
         "execution_count": 4,
         "metadata": {},
         "outputs": [],
         "source": [
            "d = Data(data_list)\n"
         ]
      },
      {
         "cell_type": "code",
         "execution_count": 5,
         "metadata": {},
         "outputs": [],
         "source": [
            "x,y,cov = d({'H0':1})"
         ]
      },
      {
         "cell_type": "code",
         "execution_count": 6,
         "metadata": {},
         "outputs": [
            {
               "data": {
                  "text/plain": [
                     "array([ 69. ,  69. ,  68.6,  83. ,  75. ,  75. ,  72.9,  77. ,  88.8,\n",
                     "        83. ,  95. ,  97. , 104. ,  92. , 105. , 125. ,  90. , 117. ,\n",
                     "       154. , 168. , 160. , 177. , 140. , 202. , 186.5,  83. ,  77. ,\n",
                     "        87.1,  92.8,  80.9,  89. ])"
                  ]
               },
               "execution_count": 6,
               "metadata": {},
               "output_type": "execute_result"
            }
         ],
         "source": [
            "y"
         ]
      },
      {
         "cell_type": "code",
         "execution_count": 7,
         "metadata": {},
         "outputs": [
            {
               "data": {
                  "text/plain": [
                     "<matplotlib.colorbar.Colorbar at 0x2c2a84af0>"
                  ]
               },
               "execution_count": 7,
               "metadata": {},
               "output_type": "execute_result"
            },
            {
               "data": {
                  "image/png": "[encoded data removed]",
                  "text/plain": [
                     "<Figure size 640x480 with 2 Axes>"
                  ]
               },
               "metadata": {},
               "output_type": "display_data"
            }
         ],
         "source": [
            "#To plt the covariance matrix \n",
            "plt.imshow(cov, cmap='RdBu')\n",
            "plt.colorbar()"
         ]
      },
      {
         "cell_type": "code",
         "execution_count": 8,
         "metadata": {},
         "outputs": [],
         "source": [
            "paramdict = {'file_fs8':1}\n",
            "d1 = Data(['CC','BAO-alam','GR'],**paramdict)"
         ]
      },
      {
         "cell_type": "code",
         "execution_count": 9,
         "metadata": {},
         "outputs": [
            {
               "name": "stdout",
               "output_type": "stream",
               "text": [
                  "Nuisance parameters are set to default values\n"
               ]
            },
            {
               "data": {
                  "text/plain": [
                     "(array([0.0708, 0.09  , 0.12  , 0.17  , 0.1791, 0.1993, 0.2   , 0.27  ,\n",
                     "        0.28  , 0.3519, 0.4   , 0.48  , 0.5929, 0.6797, 0.7812, 0.8754,\n",
                     "        0.88  , 0.9   , 1.037 , 1.3   , 1.363 , 1.43  , 1.53  , 1.75  ,\n",
                     "        1.965 , 0.3802, 0.4004, 0.4247, 0.4497, 0.4783, 0.47  , 0.38  ,\n",
                     "        0.51  , 0.61  , 0.02  , 0.067 , 0.17  , 0.35  , 0.77  , 0.25  ,\n",
                     "        0.37  , 0.22  , 0.41  , 0.6   , 0.78  , 0.57  , 0.3   , 0.4   ,\n",
                     "        0.5   , 0.6   ]),\n",
                     " array([ 69.        ,  69.        ,  68.6       ,  83.        ,\n",
                     "         75.        ,  75.        ,  72.9       ,  77.        ,\n",
                     "         88.8       ,  83.        ,  95.        ,  97.        ,\n",
                     "        104.        ,  92.        , 105.        , 125.        ,\n",
                     "         90.        , 117.        , 154.        , 168.        ,\n",
                     "        160.        , 177.        , 140.        , 202.        ,\n",
                     "        186.5       ,  83.        ,  77.        ,  87.1       ,\n",
                     "         92.8       ,  80.9       ,  89.        ,  10.27446204,\n",
                     "         13.38097171,  15.4498579 ,   0.36      ,   0.423     ,\n",
                     "          0.51      ,   0.44      ,   0.49      ,   0.351     ,\n",
                     "          0.46      ,   0.42      ,   0.45      ,   0.43      ,\n",
                     "          0.38      ,   0.427     ,   0.407     ,   0.419     ,\n",
                     "          0.427     ,   0.433     ]),\n",
                     " array([[3.873024e+02, 0.000000e+00, 0.000000e+00, ..., 0.000000e+00,\n",
                     "         0.000000e+00, 0.000000e+00],\n",
                     "        [0.000000e+00, 1.440000e+02, 0.000000e+00, ..., 0.000000e+00,\n",
                     "         0.000000e+00, 0.000000e+00],\n",
                     "        [0.000000e+00, 0.000000e+00, 6.864400e+02, ..., 0.000000e+00,\n",
                     "         0.000000e+00, 0.000000e+00],\n",
                     "        ...,\n",
                     "        [0.000000e+00, 0.000000e+00, 0.000000e+00, ..., 1.681000e-03,\n",
                     "         0.000000e+00, 0.000000e+00],\n",
                     "        [0.000000e+00, 0.000000e+00, 0.000000e+00, ..., 0.000000e+00,\n",
                     "         1.849000e-03, 0.000000e+00],\n",
                     "        [0.000000e+00, 0.000000e+00, 0.000000e+00, ..., 0.000000e+00,\n",
                     "         0.000000e+00, 4.489000e-03]]))"
                  ]
               },
               "execution_count": 9,
               "metadata": {},
               "output_type": "execute_result"
            }
         ],
         "source": [
            "d1()"
         ]
      },
      {
         "cell_type": "code",
         "execution_count": 7,
         "metadata": {},
         "outputs": [
            {
               "name": "stdout",
               "output_type": "stream",
               "text": [
                  "Nuisance parameters are set to default values\n"
               ]
            }
         ],
         "source": [
            "x1,y1, cov1 = d1()"
         ]
      },
      {
         "cell_type": "code",
         "execution_count": 8,
         "metadata": {},
         "outputs": [
            {
               "data": {
                  "text/plain": [
                     "<matplotlib.colorbar.Colorbar at 0x7fe84862eeb0>"
                  ]
               },
               "execution_count": 8,
               "metadata": {},
               "output_type": "execute_result"
            },
            {
               "data": {
                  "image/png": "[encoded data removed]",
                  "text/plain": [
                     "<Figure size 432x288 with 2 Axes>"
                  ]
               },
               "metadata": {
                  "needs_background": "light"
               },
               "output_type": "display_data"
            }
         ],
         "source": [
            "#To plt the covariance matrix \n",
            "plt.imshow(cov1, cmap='RdBu')\n",
            "plt.colorbar()"
         ]
      },
      {
         "cell_type": "code",
         "execution_count": 9,
         "metadata": {},
         "outputs": [],
         "source": [
            "d2 = Data(['CC','BAO-alam','GR','Lya','SNE','QSA','GRB'])"
         ]
      },
      {
         "cell_type": "code",
         "execution_count": 10,
         "metadata": {},
         "outputs": [
            {
               "name": "stdout",
               "output_type": "stream",
               "text": [
                  "Nuisance parameters are set to default values\n"
               ]
            },
            {
               "data": {
                  "text/plain": [
                     "array([-5.21186392, -0.56702788, -3.95404728])"
                  ]
               },
               "execution_count": 10,
               "metadata": {},
               "output_type": "execute_result"
            }
         ],
         "source": [
            "x2,y2, cov2 = d2()\n",
            "y2[-3:]"
         ]
      },
      {
         "cell_type": "code",
         "execution_count": 11,
         "metadata": {},
         "outputs": [
            {
               "data": {
                  "text/plain": [
                     "array([-4.55834985, -0.89468244, -3.51962523])"
                  ]
               },
               "execution_count": 11,
               "metadata": {},
               "output_type": "execute_result"
            }
         ],
         "source": [
            "x2,y2, cov2 = d2({'b':2})\n",
            "y2[-3:]"
         ]
      },
      {
         "cell_type": "code",
         "execution_count": 12,
         "metadata": {},
         "outputs": [],
         "source": [
            "x1,y1, cov1 = d1({})"
         ]
      },
      {
         "cell_type": "code",
         "execution_count": 13,
         "metadata": {},
         "outputs": [],
         "source": [
            "d2 = Data(['CC','BAO-alam','GR','Lya','GRB','SNE','QSA'])"
         ]
      },
      {
         "cell_type": "code",
         "execution_count": 14,
         "metadata": {},
         "outputs": [],
         "source": [
            "x2,y2, cov2 = d2({'file_fs8':0,'Lambda':0.7,'b':1.0,'sigma_sys':0.7})"
         ]
      },
      {
         "cell_type": "code",
         "execution_count": 15,
         "metadata": {},
         "outputs": [],
         "source": [
            "x2,y2, cov2 = d2({'file_fs8':0,'b':1.0,'sigma_sys':0.7})"
         ]
      },
      {
         "cell_type": "code",
         "execution_count": 16,
         "metadata": {},
         "outputs": [
            {
               "data": {
                  "text/plain": [
                     "[array([1, 2, 3]), array([4, 5, 6])]"
                  ]
               },
               "execution_count": 16,
               "metadata": {},
               "output_type": "execute_result"
            }
         ],
         "source": [
            "x= {}\n",
            "x['x1'] = np.array([1,2,3])\n",
            "x['x2'] = np.array([4,5,6])\n",
            "list(x.values())"
         ]
      },
      {
         "cell_type": "code",
         "execution_count": null,
         "metadata": {},
         "outputs": [],
         "source": []
      }
   ],
   "metadata": {
      "kernelspec": {
         "display_name": "base",
         "language": "python",
         "name": "python3"
      },
      "language_info": {
         "codemirror_mode": {
            "name": "ipython",
            "version": 3
         },
         "file_extension": ".py",
         "mimetype": "text/x-python",
         "name": "python",
         "nbconvert_exporter": "python",
         "pygments_lexer": "ipython3",
         "version": "3.10.0"
      },
      "orig_nbformat": 4
   },
   "nbformat": 4,
   "nbformat_minor": 2
}
